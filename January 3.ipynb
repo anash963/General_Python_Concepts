{
 "cells": [
  {
   "cell_type": "markdown",
   "id": "e6ab16e7",
   "metadata": {},
   "source": [
    "#### Problem1: Print all factors of a given number provided by the user."
   ]
  },
  {
   "cell_type": "code",
   "execution_count": 5,
   "id": "20f31fd7",
   "metadata": {},
   "outputs": [
    {
     "name": "stdout",
     "output_type": "stream",
     "text": [
      "enter a number:11\n",
      "1\n",
      "11\n"
     ]
    }
   ],
   "source": [
    "number = int(input(\"enter a number:\"))\n",
    "\n",
    "for i in range(1, number+1):\n",
    "    if (number%i)==0:\n",
    "        print(i)"
   ]
  },
  {
   "cell_type": "markdown",
   "id": "9fba9609",
   "metadata": {},
   "source": [
    "#### Problem2: Find the reverse of a number provided by the user(any number of digit) "
   ]
  },
  {
   "cell_type": "code",
   "execution_count": 8,
   "id": "1839616b",
   "metadata": {},
   "outputs": [
    {
     "name": "stdout",
     "output_type": "stream",
     "text": [
      "enter a number:123456789\n",
      "987654321\n"
     ]
    }
   ],
   "source": [
    "number = int(input(\"enter a number:\"))\n",
    "\n",
    "reversed_number = 0\n",
    "\n",
    "while number>0:\n",
    "    digit = number%10\n",
    "    reversed_number = reversed_number*10 + digit\n",
    "    number = number//10\n",
    "print(reversed_number)"
   ]
  },
  {
   "cell_type": "markdown",
   "id": "64901ed6",
   "metadata": {},
   "source": [
    "#### Problem3: Print first 25 prime numbers"
   ]
  },
  {
   "cell_type": "code",
   "execution_count": 16,
   "id": "df2f42cd",
   "metadata": {},
   "outputs": [],
   "source": [
    "def isPrime(num):\n",
    "    if num<2:\n",
    "        return False\n",
    "    for i in range(2, int(num**0.5)+1):\n",
    "        if num%i==0:\n",
    "            return False\n",
    "    return True\n",
    "    \n",
    "def primeList(n):\n",
    "    count = 0\n",
    "    number = 2\n",
    "    while count<n:\n",
    "        if isPrime(number):\n",
    "            print(number)\n",
    "            count+=1\n",
    "        number+=1\n",
    "        \n",
    "        \n"
   ]
  },
  {
   "cell_type": "code",
   "execution_count": 17,
   "id": "a5688749",
   "metadata": {},
   "outputs": [
    {
     "name": "stdout",
     "output_type": "stream",
     "text": [
      "2\n",
      "3\n",
      "5\n",
      "7\n",
      "11\n",
      "13\n",
      "17\n",
      "19\n",
      "23\n",
      "29\n",
      "31\n",
      "37\n",
      "41\n",
      "43\n",
      "47\n",
      "53\n",
      "59\n",
      "61\n",
      "67\n",
      "71\n",
      "73\n",
      "79\n",
      "83\n",
      "89\n",
      "97\n"
     ]
    }
   ],
   "source": [
    "primeList(25)"
   ]
  },
  {
   "cell_type": "markdown",
   "id": "46ea37c8",
   "metadata": {},
   "source": [
    "#### Problem4: Print the first 20 numbers of a Fibonacci series"
   ]
  },
  {
   "cell_type": "code",
   "execution_count": 28,
   "id": "4e822dfb",
   "metadata": {},
   "outputs": [],
   "source": [
    "def fibo(num):\n",
    "    \n",
    "    num1= 0\n",
    "    num2= 1\n",
    "    count= 0\n",
    "    \n",
    "    while count<num:\n",
    "        \n",
    "        print(num1)\n",
    "        \n",
    "        next_num=num1+num2\n",
    "        num1=num2\n",
    "        num2=next_num\n",
    "        count+=1\n",
    "    \n"
   ]
  },
  {
   "cell_type": "code",
   "execution_count": 29,
   "id": "756bf7f2",
   "metadata": {},
   "outputs": [
    {
     "name": "stdout",
     "output_type": "stream",
     "text": [
      "0\n",
      "1\n",
      "1\n",
      "2\n",
      "3\n",
      "5\n",
      "8\n",
      "13\n",
      "21\n",
      "34\n",
      "55\n",
      "89\n",
      "144\n",
      "233\n",
      "377\n",
      "610\n",
      "987\n",
      "1597\n",
      "2584\n",
      "4181\n"
     ]
    }
   ],
   "source": [
    "fibo(20)"
   ]
  },
  {
   "cell_type": "markdown",
   "id": "606b7a84",
   "metadata": {},
   "source": [
    "#### Problem5: Take a number from the user and find the number of digits in it. "
   ]
  },
  {
   "cell_type": "code",
   "execution_count": 33,
   "id": "e18cbe5a",
   "metadata": {},
   "outputs": [
    {
     "name": "stdout",
     "output_type": "stream",
     "text": [
      "enter a number:-156789\n",
      "6\n"
     ]
    }
   ],
   "source": [
    "number = (input(\"enter a number:\"))\n",
    "\n",
    "\n",
    "num_digits = len(number)\n",
    "\n",
    "if number[0] == \"-\":\n",
    "    num_digits -=1\n",
    "    \n",
    "print(num_digits)\n"
   ]
  },
  {
   "cell_type": "markdown",
   "id": "728dcc62",
   "metadata": {},
   "source": [
    "#### Problem6: Find the length of a given string without using the len() function. "
   ]
  },
  {
   "cell_type": "code",
   "execution_count": 38,
   "id": "ecac6b95",
   "metadata": {},
   "outputs": [],
   "source": [
    "def string_length(strr):\n",
    "    length = 0\n",
    "    for i in strr:\n",
    "        length +=1\n",
    "    print(length)"
   ]
  },
  {
   "cell_type": "code",
   "execution_count": 40,
   "id": "0626818f",
   "metadata": {},
   "outputs": [
    {
     "name": "stdout",
     "output_type": "stream",
     "text": [
      "10\n"
     ]
    }
   ],
   "source": [
    "string_length(\"ABCDAAABBB\")"
   ]
  },
  {
   "cell_type": "markdown",
   "id": "5b7ad0fc",
   "metadata": {},
   "source": [
    "#### Problem7: Extract username from a given email. \n",
    "Eg if the email is nitish24singh@gmail.com then the username should be nitish24singh"
   ]
  },
  {
   "cell_type": "code",
   "execution_count": 46,
   "id": "939a8c1f",
   "metadata": {},
   "outputs": [],
   "source": [
    "def userName(email):\n",
    "    \n",
    "    if \"@\" in email:\n",
    "        print(email.split(\"@\")[0])\n",
    "    else:\n",
    "        print(\"invalid email\")\n",
    "    "
   ]
  },
  {
   "cell_type": "code",
   "execution_count": 47,
   "id": "da91b622",
   "metadata": {},
   "outputs": [
    {
     "name": "stdout",
     "output_type": "stream",
     "text": [
      "nitish24singh\n"
     ]
    }
   ],
   "source": [
    "userName(\"nitish24singh@gmail.com\")"
   ]
  },
  {
   "cell_type": "markdown",
   "id": "ca87b6d4",
   "metadata": {},
   "source": [
    "#### Problem8: Count the frequency of a particular character in a provided string. Eg 'hello how are you' is the string, the frequency of h in this string is 2."
   ]
  },
  {
   "cell_type": "code",
   "execution_count": 51,
   "id": "73073336",
   "metadata": {},
   "outputs": [],
   "source": [
    "def frequency(input_str, char):\n",
    "    \n",
    "    count = 0\n",
    "    \n",
    "    for c in input_str:\n",
    "        if c==char:\n",
    "            count+=1\n",
    "            \n",
    "    return count\n",
    "    "
   ]
  },
  {
   "cell_type": "code",
   "execution_count": 52,
   "id": "1e0b3415",
   "metadata": {},
   "outputs": [
    {
     "data": {
      "text/plain": [
       "2"
      ]
     },
     "execution_count": 52,
     "metadata": {},
     "output_type": "execute_result"
    }
   ],
   "source": [
    "input_string= 'hello how are you'\n",
    "character = 'h'\n",
    "\n",
    "frequency(input_string, character)"
   ]
  },
  {
   "cell_type": "markdown",
   "id": "ddb45bf5",
   "metadata": {},
   "source": [
    "#### Problem9: Find the index position of a particular character in a string. "
   ]
  },
  {
   "cell_type": "code",
   "execution_count": 57,
   "id": "51652597",
   "metadata": {},
   "outputs": [],
   "source": [
    "def char_pos(input_str, char):\n",
    "    indices = []\n",
    "    for i in range(len(input_str)):\n",
    "        if input_str[i]==char:\n",
    "            indices.append(i)\n",
    "    if indices:\n",
    "        print(f\"{indices}\")\n",
    "    else:\n",
    "        print(\"character not found\")"
   ]
  },
  {
   "cell_type": "code",
   "execution_count": 58,
   "id": "9717cfce",
   "metadata": {},
   "outputs": [
    {
     "name": "stdout",
     "output_type": "stream",
     "text": [
      "[0, 6]\n"
     ]
    }
   ],
   "source": [
    "input_string= 'hello how are you'\n",
    "character = 'h'\n",
    "\n",
    "char_pos(input_string, character)"
   ]
  },
  {
   "cell_type": "markdown",
   "id": "516a1e34",
   "metadata": {},
   "source": [
    "#### Problem10: Count the number of vowels in a string provided by the user."
   ]
  },
  {
   "cell_type": "code",
   "execution_count": 59,
   "id": "55475401",
   "metadata": {},
   "outputs": [],
   "source": [
    "def vowel_count(input_str):\n",
    "    count=0\n",
    "    vowels=\"aeiouAEIOU\"\n",
    "    for i in input_str:\n",
    "        if i in vowels:\n",
    "            count+=1\n",
    "    return count"
   ]
  },
  {
   "cell_type": "code",
   "execution_count": 60,
   "id": "68d7753e",
   "metadata": {},
   "outputs": [
    {
     "data": {
      "text/plain": [
       "7"
      ]
     },
     "execution_count": 60,
     "metadata": {},
     "output_type": "execute_result"
    }
   ],
   "source": [
    "input_string= 'hello how are you'\n",
    "vowel_count(input_string)"
   ]
  },
  {
   "cell_type": "markdown",
   "id": "3bf2e472",
   "metadata": {},
   "source": [
    "#### Problem11 : Write a program which can remove a particular character from a string. "
   ]
  },
  {
   "cell_type": "code",
   "execution_count": 63,
   "id": "a971107b",
   "metadata": {},
   "outputs": [],
   "source": [
    "def char_rem(input_str, char):\n",
    "    result = \"\"\n",
    "    \n",
    "    for i in input_str:\n",
    "        if i !=char:\n",
    "            result+=i\n",
    "    return result"
   ]
  },
  {
   "cell_type": "code",
   "execution_count": 64,
   "id": "c4fedbe8",
   "metadata": {},
   "outputs": [
    {
     "data": {
      "text/plain": [
       "'ello ow are you'"
      ]
     },
     "execution_count": 64,
     "metadata": {},
     "output_type": "execute_result"
    }
   ],
   "source": [
    "input_string= 'hello how are you'\n",
    "character = 'h'\n",
    "\n",
    "char_rem(input_string, character)"
   ]
  },
  {
   "cell_type": "markdown",
   "id": "b900c34e",
   "metadata": {},
   "source": [
    "#### Problem12: Write a program that can reverse words of a given string.\n",
    "Eg if the input is Hello how are you\n",
    "\n",
    "Output should be you are how Hello"
   ]
  },
  {
   "cell_type": "code",
   "execution_count": 69,
   "id": "0434ed1b",
   "metadata": {},
   "outputs": [
    {
     "name": "stdout",
     "output_type": "stream",
     "text": [
      "you are how hello\n"
     ]
    }
   ],
   "source": [
    "input_string= 'hello how are you'\n",
    "\n",
    "words = input_string.split()\n",
    "output_list= words[::-1]\n",
    "\n",
    "result = \" \".join(output_list)\n",
    "\n",
    "print(result)"
   ]
  },
  {
   "cell_type": "markdown",
   "id": "dde3c406",
   "metadata": {},
   "source": [
    "#### Problem13: Write a program that can create a new list from a given list where each item in the new list is square of the item of the old list"
   ]
  },
  {
   "cell_type": "code",
   "execution_count": 77,
   "id": "053ce3b2",
   "metadata": {},
   "outputs": [],
   "source": [
    "def square(ints):\n",
    "    result = []\n",
    "    for i in ints:\n",
    "        result.append(i**2)\n",
    "    return result"
   ]
  },
  {
   "cell_type": "code",
   "execution_count": 78,
   "id": "9f00717a",
   "metadata": {},
   "outputs": [
    {
     "data": {
      "text/plain": [
       "[1, 4, 9, 16]"
      ]
     },
     "execution_count": 78,
     "metadata": {},
     "output_type": "execute_result"
    }
   ],
   "source": [
    "list1 = [1, 2, 3, 4]\n",
    "\n",
    "square(list1)"
   ]
  },
  {
   "cell_type": "markdown",
   "id": "35001ba9",
   "metadata": {},
   "source": [
    "#### Problem14: Write a program that can count the number of words in a given string"
   ]
  },
  {
   "cell_type": "code",
   "execution_count": 79,
   "id": "73b31024",
   "metadata": {},
   "outputs": [],
   "source": [
    "def count_words(input_string):\n",
    "    words = input_string.split()\n",
    "    \n",
    "    count = 0\n",
    "    for word in words:\n",
    "        count+=1\n",
    "    return count"
   ]
  },
  {
   "cell_type": "code",
   "execution_count": 80,
   "id": "320d5f4d",
   "metadata": {},
   "outputs": [
    {
     "data": {
      "text/plain": [
       "14"
      ]
     },
     "execution_count": 80,
     "metadata": {},
     "output_type": "execute_result"
    }
   ],
   "source": [
    "strr = \"Write a program that can count the number of words in a given string\"\n",
    "count_words(strr)"
   ]
  },
  {
   "cell_type": "markdown",
   "id": "5deb39b7",
   "metadata": {},
   "source": [
    "#### Problem15: Write a python program to reverse a list"
   ]
  },
  {
   "cell_type": "code",
   "execution_count": 81,
   "id": "aac4cd04",
   "metadata": {},
   "outputs": [],
   "source": [
    "def rev_list(input_list):\n",
    "    reverse_list = input_list[::-1]\n",
    "    \n",
    "    return reverse_list"
   ]
  },
  {
   "cell_type": "code",
   "execution_count": 82,
   "id": "648124e5",
   "metadata": {},
   "outputs": [
    {
     "data": {
      "text/plain": [
       "[6, 'world', 4, 3.5, 'hello', 1]"
      ]
     },
     "execution_count": 82,
     "metadata": {},
     "output_type": "execute_result"
    }
   ],
   "source": [
    "list_het = [1, \"hello\", 3.5, 4, \"world\", 6]\n",
    "rev_list(list_het)"
   ]
  },
  {
   "cell_type": "markdown",
   "id": "88736c76",
   "metadata": {},
   "source": [
    "#### Problem16: Write a python program to search a given number from a list"
   ]
  },
  {
   "cell_type": "code",
   "execution_count": 84,
   "id": "2586569c",
   "metadata": {},
   "outputs": [],
   "source": [
    "def find_in_list(input_list1, num: int):\n",
    "    for i in input_list1:\n",
    "        if i == num:\n",
    "            print(i)\n",
    "            break"
   ]
  },
  {
   "cell_type": "code",
   "execution_count": 86,
   "id": "a2e55841",
   "metadata": {},
   "outputs": [
    {
     "name": "stdout",
     "output_type": "stream",
     "text": [
      "4\n"
     ]
    }
   ],
   "source": [
    "list1= [1, 2, 3, 4, 4, 7, 8 ,9 ,10]\n",
    "num = 4\n",
    "find_in_list(list1, num)"
   ]
  },
  {
   "cell_type": "markdown",
   "id": "4f8cfd85",
   "metadata": {},
   "source": [
    "#### Problem17: Write a python program to find the max item from a list without using the max function "
   ]
  },
  {
   "cell_type": "code",
   "execution_count": 92,
   "id": "14f6f20f",
   "metadata": {},
   "outputs": [],
   "source": [
    "def max_item(input_list):\n",
    "    \n",
    "    max = 0\n",
    "    count = 0\n",
    "    for i in input_list:\n",
    "        if i>max:\n",
    "            max=i\n",
    "            count+=1\n",
    "    return max"
   ]
  },
  {
   "cell_type": "code",
   "execution_count": 94,
   "id": "2d3584a6",
   "metadata": {},
   "outputs": [
    {
     "data": {
      "text/plain": [
       "99"
      ]
     },
     "execution_count": 94,
     "metadata": {},
     "output_type": "execute_result"
    }
   ],
   "source": [
    "list1= [1, 2, 3, 4, 4, 7, 8 ,9 ,10,99]\n",
    "max_item(list1)"
   ]
  },
  {
   "cell_type": "markdown",
   "id": "786e0de3",
   "metadata": {},
   "source": [
    "#### Problem18: Write a python program to remove all the duplicates from a list"
   ]
  },
  {
   "cell_type": "code",
   "execution_count": 95,
   "id": "fdf74c29",
   "metadata": {},
   "outputs": [],
   "source": [
    "def rem_dup(inp_list):\n",
    "    result=[]\n",
    "    seen= set()\n",
    "    for i in inp_list:\n",
    "        if i not in seen:\n",
    "            result.append(i)\n",
    "            seen.add(i)\n",
    "    return result"
   ]
  },
  {
   "cell_type": "code",
   "execution_count": 96,
   "id": "b7623078",
   "metadata": {},
   "outputs": [
    {
     "data": {
      "text/plain": [
       "[1, 2, 3, 4, 7, 8, 9, 10, 99]"
      ]
     },
     "execution_count": 96,
     "metadata": {},
     "output_type": "execute_result"
    }
   ],
   "source": [
    "list1= [1, 2, 3, 4, 4, 7, 8 ,9 ,10,99,99,10,2,1]\n",
    "rem_dup(list1)"
   ]
  },
  {
   "cell_type": "markdown",
   "id": "ed6f454e",
   "metadata": {},
   "source": [
    "#### Problem19: Write a program to check if a list is in ascending order or not"
   ]
  },
  {
   "cell_type": "code",
   "execution_count": 100,
   "id": "14bba2da",
   "metadata": {},
   "outputs": [],
   "source": [
    "def is_asc(inp_list):\n",
    "    for i in range(len(inp_list)-1):\n",
    "        if inp_list[i] >= inp_list[i+1]:\n",
    "            return False\n",
    "    return True\n",
    "        "
   ]
  },
  {
   "cell_type": "code",
   "execution_count": 103,
   "id": "a10bd108",
   "metadata": {},
   "outputs": [
    {
     "data": {
      "text/plain": [
       "True"
      ]
     },
     "execution_count": 103,
     "metadata": {},
     "output_type": "execute_result"
    }
   ],
   "source": [
    "list1= [1, 2, 3, 4, 7, 8 ,9]\n",
    "is_asc(list1)"
   ]
  },
  {
   "cell_type": "markdown",
   "id": "a5771ed1",
   "metadata": {},
   "source": [
    "#### Problem20: Write a program that can check whether a given string is palindrome or not."
   ]
  },
  {
   "cell_type": "code",
   "execution_count": 104,
   "id": "cbfd70ee",
   "metadata": {},
   "outputs": [],
   "source": [
    "def is_pall(inp_str):\n",
    "    if inp_str == inp_str[::-1] :\n",
    "        print(\"pallindrome\")\n",
    "    else:\n",
    "        print(\"Not pallindrome\")"
   ]
  },
  {
   "cell_type": "code",
   "execution_count": 105,
   "id": "af5f792f",
   "metadata": {},
   "outputs": [
    {
     "name": "stdout",
     "output_type": "stream",
     "text": [
      "pallindrome\n"
     ]
    }
   ],
   "source": [
    "is_pall(\"radar\")"
   ]
  },
  {
   "cell_type": "code",
   "execution_count": 106,
   "id": "b282de75",
   "metadata": {},
   "outputs": [
    {
     "name": "stdout",
     "output_type": "stream",
     "text": [
      "Not pallindrome\n"
     ]
    }
   ],
   "source": [
    "is_pall(\"kadali\")"
   ]
  },
  {
   "cell_type": "markdown",
   "id": "eb6e90d9",
   "metadata": {},
   "source": [
    "#### Problem21: Write a program to find the volume of the cylinder. Also find the cost when ,when the cost of 1litre milk is 40Rs."
   ]
  },
  {
   "cell_type": "code",
   "execution_count": 114,
   "id": "a0cdad0b",
   "metadata": {},
   "outputs": [],
   "source": [
    "import math\n",
    "\n",
    "def vol_cyl(height, radius):\n",
    "    volume = math.pi*(radius**2)*height\n",
    "    cost = volume*40\n",
    "    return volume, cost"
   ]
  },
  {
   "cell_type": "code",
   "execution_count": 115,
   "id": "7a6cc981",
   "metadata": {},
   "outputs": [
    {
     "data": {
      "text/plain": [
       "(392.69908169872417, 15707.963267948966)"
      ]
     },
     "execution_count": 115,
     "metadata": {},
     "output_type": "execute_result"
    }
   ],
   "source": [
    "h = 5\n",
    "r = 5\n",
    "\n",
    "vol_cyl(h, r)"
   ]
  },
  {
   "cell_type": "markdown",
   "id": "9880779a",
   "metadata": {},
   "source": [
    "#### Problem22: User will provide 2 numbers you have to find the HCF of those 2 numbers"
   ]
  },
  {
   "cell_type": "code",
   "execution_count": 124,
   "id": "136f5b01",
   "metadata": {},
   "outputs": [],
   "source": [
    "def hcf(a, b):\n",
    "    \n",
    "    while b != 0:\n",
    "        temp = b\n",
    "        b = a%b\n",
    "        a = temp\n",
    "    return a\n",
    "\n",
    "        "
   ]
  },
  {
   "cell_type": "code",
   "execution_count": 126,
   "id": "01afcdb6",
   "metadata": {},
   "outputs": [
    {
     "name": "stdout",
     "output_type": "stream",
     "text": [
      "number1: 98\n",
      "number2: 56\n",
      "14\n"
     ]
    }
   ],
   "source": [
    "number1 = int(input(\"number1: \"))\n",
    "number2 = int(input(\"number2: \"))\n",
    "\n",
    "result = hcf(number1, number2)\n",
    "print(result)"
   ]
  },
  {
   "cell_type": "markdown",
   "id": "f8e3043d",
   "metadata": {},
   "source": [
    "#### Problem23: User will provide 2 numbers you have to find the by LCM of those 2 numbers"
   ]
  },
  {
   "cell_type": "code",
   "execution_count": 127,
   "id": "a08a309f",
   "metadata": {},
   "outputs": [],
   "source": [
    "def hcf(a,b):\n",
    "    \n",
    "    while b != 0:\n",
    "        a,b=b, a%b\n",
    "    return a\n",
    "\n",
    "def lcm(a, b):\n",
    "    return abs(a*b)//hcf(a,b)"
   ]
  },
  {
   "cell_type": "code",
   "execution_count": 128,
   "id": "ac905244",
   "metadata": {},
   "outputs": [
    {
     "name": "stdout",
     "output_type": "stream",
     "text": [
      "number1: 98\n",
      "number2: 56\n",
      "392\n"
     ]
    }
   ],
   "source": [
    "number1 = int(input(\"number1: \"))\n",
    "number2 = int(input(\"number2: \"))\n",
    "\n",
    "result = lcm(number1, number2)\n",
    "print(result)"
   ]
  },
  {
   "cell_type": "markdown",
   "id": "7a97daa9",
   "metadata": {},
   "source": [
    "#### Problem24: Write a program that will check whether the number is armstrong number or not."
   ]
  },
  {
   "cell_type": "code",
   "execution_count": 130,
   "id": "c26ca56b",
   "metadata": {},
   "outputs": [],
   "source": [
    "def armstrong(number):\n",
    "    digits = str(number)\n",
    "    \n",
    "    num_digits = len(digits)\n",
    "    \n",
    "    total = 0\n",
    "    \n",
    "    for digit in digits:\n",
    "        total += int(digit)**num_digits\n",
    "    \n",
    "    if total == number:\n",
    "        print(\"armstrong\")\n",
    "    else:\n",
    "        print(\"not armstrong\")"
   ]
  },
  {
   "cell_type": "code",
   "execution_count": 131,
   "id": "624acbcb",
   "metadata": {},
   "outputs": [
    {
     "name": "stdout",
     "output_type": "stream",
     "text": [
      "armstrong\n"
     ]
    }
   ],
   "source": [
    "armstrong(153)"
   ]
  },
  {
   "cell_type": "code",
   "execution_count": 132,
   "id": "e9ff85fb",
   "metadata": {},
   "outputs": [
    {
     "name": "stdout",
     "output_type": "stream",
     "text": [
      "not armstrong\n"
     ]
    }
   ],
   "source": [
    "armstrong(1234)"
   ]
  },
  {
   "cell_type": "markdown",
   "id": "373c4c86",
   "metadata": {},
   "source": [
    "#### Problem25: Print all the armstrong numbers in the range of 100 to 1000"
   ]
  },
  {
   "cell_type": "code",
   "execution_count": 134,
   "id": "69267192",
   "metadata": {},
   "outputs": [
    {
     "name": "stdout",
     "output_type": "stream",
     "text": [
      "153\n",
      "370\n",
      "371\n",
      "407\n"
     ]
    }
   ],
   "source": [
    "def generate_armstrong(number):\n",
    "    digits = str(number)\n",
    "    num_digits = len(digits)\n",
    "    \n",
    "    total = 0\n",
    "    \n",
    "    for digit in digits:\n",
    "        total += int(digit)**num_digits\n",
    "        \n",
    "    return total == number\n",
    "\n",
    "for i in range(100, 1000):\n",
    "    if generate_armstrong(i):\n",
    "        print(i)"
   ]
  },
  {
   "cell_type": "markdown",
   "id": "75cfcf98",
   "metadata": {},
   "source": [
    "#### Problem26: Write a Python program that accepts an integer (n) and computes the value of n+nn+nnn."
   ]
  },
  {
   "cell_type": "code",
   "execution_count": 158,
   "id": "c1f19a2a",
   "metadata": {},
   "outputs": [],
   "source": [
    "def value_sum(n):\n",
    "    n_str= str(n)\n",
    "    nn = int(n_str*2)\n",
    "    nnn = int(n_str*3)\n",
    "    \n",
    "    result = n+nn+nnn\n",
    "    return result"
   ]
  },
  {
   "cell_type": "code",
   "execution_count": 159,
   "id": "d848b0b7",
   "metadata": {},
   "outputs": [
    {
     "data": {
      "text/plain": [
       "615"
      ]
     },
     "execution_count": 159,
     "metadata": {},
     "output_type": "execute_result"
    }
   ],
   "source": [
    "value_sum(5)"
   ]
  },
  {
   "cell_type": "markdown",
   "id": "40823c9b",
   "metadata": {},
   "source": [
    "#### Problem27: Write a program to merge two given dictionaries"
   ]
  },
  {
   "cell_type": "code",
   "execution_count": 162,
   "id": "8d682f93",
   "metadata": {},
   "outputs": [],
   "source": [
    "def merge_dict(dict1, dict2):\n",
    "    merged_dict = {**dict1, **dict2}\n",
    "    return merged_dict"
   ]
  },
  {
   "cell_type": "code",
   "execution_count": 163,
   "id": "90847589",
   "metadata": {},
   "outputs": [
    {
     "data": {
      "text/plain": [
       "{'a': 1, 'b': 2, 'c': 3, 'd': 4, 'e': 5, 'f': 6}"
      ]
     },
     "execution_count": 163,
     "metadata": {},
     "output_type": "execute_result"
    }
   ],
   "source": [
    "dict1_in = {\"a\": 1, \"b\": 2, \"c\": 3}\n",
    "dict2_in = {\"d\": 4, \"e\": 5, \"f\": 6}\n",
    "\n",
    "merge_dict(dict1_in, dict2_in)"
   ]
  },
  {
   "cell_type": "markdown",
   "id": "cadb0e85",
   "metadata": {},
   "source": [
    "#### Problem28: Write a program to print the following pattern\n",
    "\n",
    "    *\n",
    "    **\n",
    "    ***\n",
    "    ****\n",
    "    *****\n"
   ]
  },
  {
   "cell_type": "code",
   "execution_count": 167,
   "id": "1fcf327b",
   "metadata": {},
   "outputs": [
    {
     "name": "stdout",
     "output_type": "stream",
     "text": [
      "*\n",
      "**\n",
      "***\n",
      "****\n",
      "*****\n"
     ]
    }
   ],
   "source": [
    "n = 5\n",
    "\n",
    "for i in range(1, n+1):\n",
    "    print('*'*i)"
   ]
  },
  {
   "cell_type": "markdown",
   "id": "b717f879",
   "metadata": {},
   "source": [
    "#### Problem29: Write a program to print the following pattern\n",
    "    *\n",
    "    **\n",
    "    ***\n",
    "    **\n",
    "    *"
   ]
  },
  {
   "cell_type": "code",
   "execution_count": 171,
   "id": "2bed80a4",
   "metadata": {},
   "outputs": [
    {
     "name": "stdout",
     "output_type": "stream",
     "text": [
      "*\n",
      "**\n",
      "***\n",
      "**\n",
      "*\n"
     ]
    }
   ],
   "source": [
    "n = [1,2,3,2,1]\n",
    "\n",
    "for i in n:\n",
    "    print('*'*i)\n"
   ]
  },
  {
   "cell_type": "markdown",
   "id": "5f33645f",
   "metadata": {},
   "source": [
    "#### Problem30: Write  a program to print the following pattern\n",
    "            *\n",
    "          * * *\n",
    "        * * * * *\n",
    "       * * * * * * *\n",
    "     * * * * * * * * *"
   ]
  },
  {
   "cell_type": "code",
   "execution_count": 177,
   "id": "3b62bfa2",
   "metadata": {},
   "outputs": [
    {
     "name": "stdout",
     "output_type": "stream",
     "text": [
      "    *\n",
      "   ***\n",
      "  *****\n",
      " *******\n",
      "*********\n"
     ]
    }
   ],
   "source": [
    "n = 5\n",
    "for i in range(1, n+1):\n",
    "    spaces = \" \"*(n-i)\n",
    "    stars = \"*\" * (2*i-1)\n",
    "    print(spaces + stars.strip())"
   ]
  },
  {
   "cell_type": "markdown",
   "id": "da904820",
   "metadata": {},
   "source": [
    "#### Problem31: Write a program to print the following pattern\n",
    "1\n",
    "\n",
    "1 2 1\n",
    "\n",
    "1 2 3 2 1\n",
    "\n",
    "1 2 3 4 3 2 1\n",
    "\n",
    "1 2 3 4 5 4 3 2 1"
   ]
  },
  {
   "cell_type": "code",
   "execution_count": 189,
   "id": "5b375f98",
   "metadata": {},
   "outputs": [
    {
     "name": "stdout",
     "output_type": "stream",
     "text": [
      "1\n",
      "121\n",
      "12321\n",
      "1234321\n",
      "123454321\n"
     ]
    }
   ],
   "source": [
    "n = 5\n",
    "for i in range(1, n+1):\n",
    "    increasing = [str(j) for j in range(1, i+1)]\n",
    "    \n",
    "    decreasing = [str(j) for j in range(i-1, 0, -1)]\n",
    "    \n",
    "    print(''.join(increasing+decreasing))"
   ]
  },
  {
   "cell_type": "markdown",
   "id": "fa79ec14",
   "metadata": {},
   "source": [
    "#### Problem32: Write a program to print the following pattern\n",
    "1 \n",
    "\n",
    "2 3 \n",
    "\n",
    "4 5 6 \n",
    "\n",
    "7 8 9 10 "
   ]
  },
  {
   "cell_type": "code",
   "execution_count": 202,
   "id": "aa4dfc89",
   "metadata": {},
   "outputs": [
    {
     "name": "stdout",
     "output_type": "stream",
     "text": [
      "1 \n",
      "2 3 \n",
      "4 5 6 \n",
      "7 8 9 10 \n"
     ]
    }
   ],
   "source": [
    "\n",
    "num = 1\n",
    "for i in range(1, n+1):\n",
    "    for j in range(i):\n",
    "        print(num, end=\" \")\n",
    "        num+=1\n",
    "    print()"
   ]
  },
  {
   "cell_type": "code",
   "execution_count": null,
   "id": "274daaaf",
   "metadata": {},
   "outputs": [],
   "source": []
  }
 ],
 "metadata": {
  "kernelspec": {
   "display_name": "Python 3 (ipykernel)",
   "language": "python",
   "name": "python3"
  },
  "language_info": {
   "codemirror_mode": {
    "name": "ipython",
    "version": 3
   },
   "file_extension": ".py",
   "mimetype": "text/x-python",
   "name": "python",
   "nbconvert_exporter": "python",
   "pygments_lexer": "ipython3",
   "version": "3.11.7"
  }
 },
 "nbformat": 4,
 "nbformat_minor": 5
}
