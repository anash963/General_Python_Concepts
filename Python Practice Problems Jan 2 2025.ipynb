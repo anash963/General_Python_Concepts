{
 "cells": [
  {
   "cell_type": "markdown",
   "id": "c018dcb8",
   "metadata": {},
   "source": [
    "### Python Practice Problems"
   ]
  },
  {
   "cell_type": "markdown",
   "id": "f7132182",
   "metadata": {},
   "source": [
    "#### Problem1: User will input (3ages).Find the oldest one"
   ]
  },
  {
   "cell_type": "code",
   "execution_count": 5,
   "id": "f3844fa9",
   "metadata": {},
   "outputs": [
    {
     "name": "stdout",
     "output_type": "stream",
     "text": [
      "Enter age 1:22\n",
      "Enter age 2:44\n",
      "Enter age 3:66\n",
      "The oldest is: 66\n"
     ]
    }
   ],
   "source": [
    "age1 = int(input(\"Enter age 1:\"))\n",
    "age2 = int(input(\"Enter age 2:\"))\n",
    "age3 = int(input(\"Enter age 3:\"))\n",
    "\n",
    "\n",
    "oldest = max(age1, age2, age3)\n",
    "\n",
    "print(f\"The oldest is: {oldest}\")"
   ]
  },
  {
   "cell_type": "markdown",
   "id": "91ce4c3e",
   "metadata": {},
   "source": [
    "#### Problem2: Write a program that will convert celsius value to fahrenheit"
   ]
  },
  {
   "cell_type": "code",
   "execution_count": 17,
   "id": "aa2de288",
   "metadata": {},
   "outputs": [],
   "source": [
    "def cel2fah(celsius):\n",
    "    return (celsius * 9/5) + 32    "
   ]
  },
  {
   "cell_type": "code",
   "execution_count": 19,
   "id": "5a21ef6a",
   "metadata": {},
   "outputs": [
    {
     "data": {
      "text/plain": [
       "114.61999999999999"
      ]
     },
     "execution_count": 19,
     "metadata": {},
     "output_type": "execute_result"
    }
   ],
   "source": [
    "temp_cel = 45.9\n",
    "cel2fah(temp_cel)"
   ]
  },
  {
   "cell_type": "markdown",
   "id": "898c3471",
   "metadata": {},
   "source": [
    "#### Problem3: User will input (2numbers).Write a program to swap the numbers"
   ]
  },
  {
   "cell_type": "code",
   "execution_count": 21,
   "id": "aeae0de4",
   "metadata": {},
   "outputs": [
    {
     "name": "stdout",
     "output_type": "stream",
     "text": [
      "enter number 1:22\n",
      "enter number 2:33\n",
      "33 22\n"
     ]
    }
   ],
   "source": [
    "num1 = int(input(\"enter number 1:\"))\n",
    "num2 = int(input(\"enter number 2:\"))\n",
    "\n",
    "num1, num2 = num2, num1\n",
    "\n",
    "print(num1, num2)"
   ]
  },
  {
   "cell_type": "markdown",
   "id": "9733857b",
   "metadata": {},
   "source": [
    "#### Problem4: Write a program that will give you the sum of 3 digits"
   ]
  },
  {
   "cell_type": "code",
   "execution_count": 22,
   "id": "45b99d53",
   "metadata": {},
   "outputs": [],
   "source": [
    "def sum_3(int1, int2, int3):\n",
    "    return int1+int2+int3"
   ]
  },
  {
   "cell_type": "code",
   "execution_count": 24,
   "id": "de9e9dd5",
   "metadata": {},
   "outputs": [
    {
     "data": {
      "text/plain": [
       "187"
      ]
     },
     "execution_count": 24,
     "metadata": {},
     "output_type": "execute_result"
    }
   ],
   "source": [
    "integer1 = 44\n",
    "integer2 = 66\n",
    "integer3 = 77\n",
    "\n",
    "sum_3(integer1,integer2,integer3)"
   ]
  },
  {
   "cell_type": "markdown",
   "id": "db3b7425",
   "metadata": {},
   "source": [
    "#### Problem5: Write a program that will reverse a four digit number."
   ]
  },
  {
   "cell_type": "code",
   "execution_count": 27,
   "id": "a1a83539",
   "metadata": {},
   "outputs": [],
   "source": [
    "def reverse_number(num):\n",
    "    \n",
    "    reversed_number = int(str(num)[::-1])\n",
    "    \n",
    "    return reversed_number\n",
    "    "
   ]
  },
  {
   "cell_type": "code",
   "execution_count": 28,
   "id": "a11009c3",
   "metadata": {},
   "outputs": [
    {
     "data": {
      "text/plain": [
       "5432"
      ]
     },
     "execution_count": 28,
     "metadata": {},
     "output_type": "execute_result"
    }
   ],
   "source": [
    "reverse_number(2345)"
   ]
  },
  {
   "cell_type": "markdown",
   "id": "efe890c8",
   "metadata": {},
   "source": [
    "#### Problem6: Write a program that will tell whether the number entered by the user is odd or even."
   ]
  },
  {
   "cell_type": "code",
   "execution_count": 32,
   "id": "8ad75554",
   "metadata": {
    "scrolled": true
   },
   "outputs": [
    {
     "name": "stdout",
     "output_type": "stream",
     "text": [
      "enter a number:66\n",
      "even\n"
     ]
    }
   ],
   "source": [
    "number = int(input(\"enter a number:\"))\n",
    "\n",
    "print(\"even\" if number%2 == 0 else \"odd\")"
   ]
  },
  {
   "cell_type": "markdown",
   "id": "e7ee56cb",
   "metadata": {},
   "source": [
    "#### Problem7: Write a program that will tell whether the given year is a leap year or not."
   ]
  },
  {
   "cell_type": "code",
   "execution_count": 37,
   "id": "3659f337",
   "metadata": {},
   "outputs": [
    {
     "name": "stdout",
     "output_type": "stream",
     "text": [
      "enter the year:1700\n",
      "not leap\n"
     ]
    }
   ],
   "source": [
    "number = int(input(\"enter the year:\"))\n",
    "\n",
    "print((\"leap\" if (number%4 == 0 and number%100 !=0)  or (number%400 ==0) else \"not leap\"))"
   ]
  },
  {
   "cell_type": "markdown",
   "id": "2af20829",
   "metadata": {},
   "source": [
    "#### Problem8: Write a program to find the euclidean distance between two coordinates."
   ]
  },
  {
   "cell_type": "code",
   "execution_count": 39,
   "id": "b7d76acf",
   "metadata": {},
   "outputs": [],
   "source": [
    "import math\n",
    "\n",
    "def euclidean_dist(p1, p2):\n",
    "    distance = math.sqrt((p1[0]-p2[0])**2 + (p1[1]-p2[1])**2 + (p1[2]-p2[2])**2)\n",
    "    return distance"
   ]
  },
  {
   "cell_type": "code",
   "execution_count": 40,
   "id": "3e936af6",
   "metadata": {},
   "outputs": [
    {
     "data": {
      "text/plain": [
       "97.28982526451571"
      ]
     },
     "execution_count": 40,
     "metadata": {},
     "output_type": "execute_result"
    }
   ],
   "source": [
    "point1 = [3, 4, 5]\n",
    "point2 = [99.99, -2.5, 9]\n",
    "\n",
    "euclidean_dist(point1, point2)"
   ]
  },
  {
   "cell_type": "markdown",
   "id": "42eff871",
   "metadata": {},
   "source": [
    "#### Problem9: Factorial"
   ]
  },
  {
   "cell_type": "code",
   "execution_count": 43,
   "id": "dfdf0f4e",
   "metadata": {},
   "outputs": [],
   "source": [
    "def fact(num):\n",
    "    factorial = 1\n",
    "    for i in range(1, num+1):\n",
    "        factorial  =  factorial * i\n",
    "    return factorial"
   ]
  },
  {
   "cell_type": "code",
   "execution_count": 46,
   "id": "696e28a2",
   "metadata": {},
   "outputs": [
    {
     "data": {
      "text/plain": [
       "710998587804863451854045647463724949736497978881168458687447040000000000000"
      ]
     },
     "execution_count": 46,
     "metadata": {},
     "output_type": "execute_result"
    }
   ],
   "source": [
    "fact(56)"
   ]
  },
  {
   "cell_type": "code",
   "execution_count": 47,
   "id": "07251b0f",
   "metadata": {},
   "outputs": [],
   "source": [
    "def fact2(n):\n",
    "    return 1 if n==0 else n*fact2(n-1)"
   ]
  },
  {
   "cell_type": "code",
   "execution_count": 50,
   "id": "2f66b534",
   "metadata": {},
   "outputs": [
    {
     "data": {
      "text/plain": [
       "185482642257398439114796845645546284380220968949399346684421580986889562184028199319100141244804501828416633516851200000000000000000000"
      ]
     },
     "execution_count": 50,
     "metadata": {},
     "output_type": "execute_result"
    }
   ],
   "source": [
    "fact2(88)"
   ]
  },
  {
   "cell_type": "markdown",
   "id": "d593c8a9",
   "metadata": {},
   "source": [
    "#### Problem10: Write a program to find the sum of first n numbers, where n will be provided by the user. Eg if the user provides n=10 the output should be 55.\n"
   ]
  },
  {
   "cell_type": "code",
   "execution_count": 51,
   "id": "5e4304a0",
   "metadata": {},
   "outputs": [],
   "source": [
    "def int_sum(n):\n",
    "    return 0 if n==0 else n+int_sum(n-1)"
   ]
  },
  {
   "cell_type": "code",
   "execution_count": 52,
   "id": "f07729bc",
   "metadata": {},
   "outputs": [
    {
     "data": {
      "text/plain": [
       "55"
      ]
     },
     "execution_count": 52,
     "metadata": {},
     "output_type": "execute_result"
    }
   ],
   "source": [
    "int_sum(10)"
   ]
  },
  {
   "cell_type": "markdown",
   "id": "fea9c4bb",
   "metadata": {},
   "source": [
    "#### Problem11: Write a program that can multiply 2 numbers provided by the user without using the * operator"
   ]
  },
  {
   "cell_type": "code",
   "execution_count": 59,
   "id": "9db72963",
   "metadata": {},
   "outputs": [],
   "source": [
    "def mult(n1, n2):\n",
    "    result = 0\n",
    "    for i in range(n2):\n",
    "        result+=n1\n",
    "    return result"
   ]
  },
  {
   "cell_type": "code",
   "execution_count": 61,
   "id": "4ddbe186",
   "metadata": {},
   "outputs": [
    {
     "data": {
      "text/plain": [
       "1212"
      ]
     },
     "execution_count": 61,
     "metadata": {},
     "output_type": "execute_result"
    }
   ],
   "source": [
    "number1 = 12\n",
    "number2 = 101\n",
    "mult(number1, number2)"
   ]
  },
  {
   "cell_type": "markdown",
   "id": "8786d816",
   "metadata": {},
   "source": [
    "#### Problem12: Fibonacci"
   ]
  },
  {
   "cell_type": "code",
   "execution_count": 62,
   "id": "d782199a",
   "metadata": {},
   "outputs": [],
   "source": [
    "def fibo(nums):\n",
    "    num1= 0\n",
    "    num2= 1\n",
    "    count= 0\n",
    "    \n",
    "    while count < nums:\n",
    "        print(num1)\n",
    "        \n",
    "        next_num = num1+num2\n",
    "        num1=num2\n",
    "        num2=next_num\n",
    "        \n",
    "        count+=1\n",
    "\n",
    "        "
   ]
  },
  {
   "cell_type": "code",
   "execution_count": 63,
   "id": "46ff6241",
   "metadata": {},
   "outputs": [
    {
     "name": "stdout",
     "output_type": "stream",
     "text": [
      "0\n",
      "1\n",
      "1\n",
      "2\n",
      "3\n",
      "5\n",
      "8\n",
      "13\n",
      "21\n",
      "34\n"
     ]
    }
   ],
   "source": [
    "fibo(10)"
   ]
  },
  {
   "cell_type": "markdown",
   "id": "3887c74f",
   "metadata": {},
   "source": [
    "#### Problem13: Write a program that take a user input of three angles and will find out whether it can form a triangle or not."
   ]
  },
  {
   "cell_type": "code",
   "execution_count": 69,
   "id": "dcafe36f",
   "metadata": {},
   "outputs": [
    {
     "name": "stdout",
     "output_type": "stream",
     "text": [
      "enter angle 1:55\n",
      "enter angle 2:79\n",
      "enter angle 3:1\n",
      "Cannot form a triangle\n"
     ]
    }
   ],
   "source": [
    "angle1 = int(input(\"enter angle 1:\"))\n",
    "angle2 = int(input(\"enter angle 2:\"))\n",
    "angle3 = int(input(\"enter angle 3:\"))\n",
    "\n",
    "print(\"triangle\" if (angle1+angle2+angle3==180) else \"Cannot form a triangle\")"
   ]
  },
  {
   "cell_type": "markdown",
   "id": "047fb51d",
   "metadata": {},
   "source": [
    "#### Problem14: Write a program that will take user input of cost price and selling price and determines whether its a loss or a profit"
   ]
  },
  {
   "cell_type": "code",
   "execution_count": 72,
   "id": "5aab9633",
   "metadata": {},
   "outputs": [
    {
     "name": "stdout",
     "output_type": "stream",
     "text": [
      "what is cost price:60\n",
      "what is selling price:55\n",
      "Loss\n"
     ]
    }
   ],
   "source": [
    "cost = float(input(\"what is cost price:\"))\n",
    "selling = float(input(\"what is selling price:\"))\n",
    "\n",
    "\n",
    "if (selling - cost) > 0:\n",
    "    print(\"Profit\")\n",
    "elif (selling - cost) == 0:\n",
    "    print(\"No profit or loss\")\n",
    "else:\n",
    "    print(\"Loss\")"
   ]
  },
  {
   "cell_type": "markdown",
   "id": "287dd37e",
   "metadata": {},
   "source": [
    "#### Problem15: Write a program to find the simple interest when the value of principle,rate of interest and time period is given."
   ]
  },
  {
   "cell_type": "code",
   "execution_count": 74,
   "id": "d47e9b0f",
   "metadata": {},
   "outputs": [],
   "source": [
    "def simple_int(principal, rate, time):\n",
    "    interest=(principal*rate*time)/100\n",
    "    return interest"
   ]
  },
  {
   "cell_type": "code",
   "execution_count": 75,
   "id": "2808c50a",
   "metadata": {},
   "outputs": [
    {
     "data": {
      "text/plain": [
       "20.0"
      ]
     },
     "execution_count": 75,
     "metadata": {},
     "output_type": "execute_result"
    }
   ],
   "source": [
    "p,r,t = 200,5,2\n",
    "simple_int(p,r,t)\n"
   ]
  },
  {
   "cell_type": "markdown",
   "id": "67bdd4a8",
   "metadata": {},
   "source": [
    "#### Problem16: Write  a program that will tell whether the given number is divisible by 3 & 6."
   ]
  },
  {
   "cell_type": "code",
   "execution_count": 80,
   "id": "992a9198",
   "metadata": {},
   "outputs": [],
   "source": [
    "def divif(num):\n",
    "    return \"divisible\" if num%3==0 and num%6==0 else \"not divisible\""
   ]
  },
  {
   "cell_type": "code",
   "execution_count": 83,
   "id": "77c61bea",
   "metadata": {},
   "outputs": [
    {
     "data": {
      "text/plain": [
       "'not divisible'"
      ]
     },
     "execution_count": 83,
     "metadata": {},
     "output_type": "execute_result"
    }
   ],
   "source": [
    "divif(15)"
   ]
  },
  {
   "cell_type": "markdown",
   "id": "6a7fb777",
   "metadata": {},
   "source": [
    "#### Problem17: Write a program that will determine weather when the value of temperature and humidity is provided by the user.\n",
    "TEMPERATURE(C)      HUMIDITY(%)      WEATHER\n",
    "\n",
    "      >= 30                             >=90                Hot and Humid\n",
    "      >= 30                             < 90                 Hot\n",
    "      <30                                >= 90               Cool and Humid\n",
    "      <30                                 <90                 Cool"
   ]
  },
  {
   "cell_type": "code",
   "execution_count": 87,
   "id": "df51c084",
   "metadata": {},
   "outputs": [
    {
     "name": "stdout",
     "output_type": "stream",
     "text": [
      "enter the temperature:55\n",
      "enter the humidity:55\n",
      "Hot\n"
     ]
    }
   ],
   "source": [
    "temp = float(input(\"enter the temperature:\"))\n",
    "hum = float(input(\"enter the humidity:\"))\n",
    "\n",
    "if (temp>= 30 and hum >=90):\n",
    "            print(\"Hot and Humid\") \n",
    "elif (temp>= 30 and hum <90):\n",
    "            print(\"Hot\") \n",
    "elif (temp< 30 and hum >=90):\n",
    "            print(\"Cold and Humid\")\n",
    "else:\n",
    "            print(\"Cold\") \n",
    "            \n"
   ]
  },
  {
   "cell_type": "markdown",
   "id": "9f382e2e",
   "metadata": {},
   "source": [
    "#### Problem18: Write a program that will take three digits from the user and add the square of each digit."
   ]
  },
  {
   "cell_type": "code",
   "execution_count": 91,
   "id": "d502f947",
   "metadata": {},
   "outputs": [
    {
     "name": "stdout",
     "output_type": "stream",
     "text": [
      "enter digit 1:22\n",
      "enter digit 2:33\n",
      "enter digit 3:11\n",
      "sum is 1694\n"
     ]
    }
   ],
   "source": [
    "digit1 = int(input(\"enter digit 1:\"))\n",
    "digit2 = int(input(\"enter digit 2:\"))\n",
    "digit3 = int(input(\"enter digit 3:\"))\n",
    "\n",
    "print(f\"sum is {digit1**2+digit2**2+digit3**2}\")"
   ]
  },
  {
   "cell_type": "markdown",
   "id": "797ffb6e",
   "metadata": {},
   "source": [
    "#### Problem19: Write a program to print the first 25 odd numbers"
   ]
  },
  {
   "cell_type": "code",
   "execution_count": 99,
   "id": "9d7f00d0",
   "metadata": {},
   "outputs": [],
   "source": [
    "def odd_25():\n",
    "    num = 1\n",
    "    count = 0\n",
    "    \n",
    "    while count<25:\n",
    "        print(num)\n",
    "        \n",
    "        num+=2\n",
    "        count+=1\n",
    "    "
   ]
  },
  {
   "cell_type": "code",
   "execution_count": 101,
   "id": "a8614922",
   "metadata": {},
   "outputs": [
    {
     "name": "stdout",
     "output_type": "stream",
     "text": [
      "1\n",
      "3\n",
      "5\n",
      "7\n",
      "9\n",
      "11\n",
      "13\n",
      "15\n",
      "17\n",
      "19\n",
      "21\n",
      "23\n",
      "25\n",
      "27\n",
      "29\n",
      "31\n",
      "33\n",
      "35\n",
      "37\n",
      "39\n",
      "41\n",
      "43\n",
      "45\n",
      "47\n",
      "49\n"
     ]
    }
   ],
   "source": [
    "odd_25()"
   ]
  },
  {
   "cell_type": "markdown",
   "id": "22de7721",
   "metadata": {},
   "source": [
    "#### Problem20: Write a program to print whether a given number is prime number or not"
   ]
  },
  {
   "cell_type": "code",
   "execution_count": 111,
   "id": "af5d5901",
   "metadata": {},
   "outputs": [
    {
     "name": "stdout",
     "output_type": "stream",
     "text": [
      "enter a number:12\n",
      "not a prime\n"
     ]
    }
   ],
   "source": [
    "number = int(input(\"enter a number:\"))\n",
    "\n",
    "if number>1:\n",
    "    for i in range(2, (number//2)+1):\n",
    "        if (number%i == 0):\n",
    "            print(\"not a prime\")\n",
    "            break\n",
    "    else:\n",
    "        print(\"prime\")\n",
    "else:\n",
    "    print(\"not a prime\")"
   ]
  },
  {
   "cell_type": "code",
   "execution_count": null,
   "id": "79b716e8",
   "metadata": {},
   "outputs": [],
   "source": []
  }
 ],
 "metadata": {
  "kernelspec": {
   "display_name": "Python 3 (ipykernel)",
   "language": "python",
   "name": "python3"
  },
  "language_info": {
   "codemirror_mode": {
    "name": "ipython",
    "version": 3
   },
   "file_extension": ".py",
   "mimetype": "text/x-python",
   "name": "python",
   "nbconvert_exporter": "python",
   "pygments_lexer": "ipython3",
   "version": "3.11.7"
  }
 },
 "nbformat": 4,
 "nbformat_minor": 5
}
