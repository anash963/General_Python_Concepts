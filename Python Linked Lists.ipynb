{
 "cells": [
  {
   "cell_type": "code",
   "execution_count": 2,
   "id": "fa35971d",
   "metadata": {},
   "outputs": [],
   "source": [
    "#implementing a single node"
   ]
  },
  {
   "cell_type": "code",
   "execution_count": 47,
   "id": "9f826d34",
   "metadata": {},
   "outputs": [],
   "source": [
    "class Node:\n",
    "    \n",
    "    def __init__(self, value):   #constructor with self object and value the node will be storing\n",
    "        \n",
    "        self.data = value #value from object call\n",
    "        self.next = None #not pointing anywhere"
   ]
  },
  {
   "cell_type": "code",
   "execution_count": 48,
   "id": "3f8d2ab4",
   "metadata": {},
   "outputs": [],
   "source": [
    "#creating objects of node class\n",
    "\n",
    "a = Node(13)\n",
    "b = Node(20)\n",
    "c = Node(11)"
   ]
  },
  {
   "cell_type": "code",
   "execution_count": 49,
   "id": "84eb1e16",
   "metadata": {},
   "outputs": [
    {
     "name": "stdout",
     "output_type": "stream",
     "text": [
      "<__main__.Node object at 0x00000262185EA2D0>\n",
      "<__main__.Node object at 0x00000262185EA990>\n",
      "<__main__.Node object at 0x00000262185EA590>\n"
     ]
    }
   ],
   "source": [
    "#will show the memory locations of the objects\n",
    "\n",
    "print(a)\n",
    "print(b)\n",
    "print(c)"
   ]
  },
  {
   "cell_type": "code",
   "execution_count": 50,
   "id": "fd53fd3d",
   "metadata": {},
   "outputs": [
    {
     "name": "stdout",
     "output_type": "stream",
     "text": [
      "13\n",
      "20\n",
      "11\n"
     ]
    }
   ],
   "source": [
    "print(a.data)\n",
    "print(b.data)\n",
    "print(c.data)"
   ]
  },
  {
   "cell_type": "code",
   "execution_count": 51,
   "id": "36036aa7",
   "metadata": {},
   "outputs": [
    {
     "name": "stdout",
     "output_type": "stream",
     "text": [
      "None\n"
     ]
    }
   ],
   "source": [
    "print(a.next)"
   ]
  },
  {
   "cell_type": "code",
   "execution_count": 52,
   "id": "d34c4537",
   "metadata": {},
   "outputs": [],
   "source": [
    "a.next = b"
   ]
  },
  {
   "cell_type": "code",
   "execution_count": 53,
   "id": "61917ced",
   "metadata": {},
   "outputs": [
    {
     "name": "stdout",
     "output_type": "stream",
     "text": [
      "<__main__.Node object at 0x00000262185EA2D0>\n"
     ]
    }
   ],
   "source": [
    "print(a)"
   ]
  },
  {
   "cell_type": "code",
   "execution_count": 54,
   "id": "0947c94b",
   "metadata": {},
   "outputs": [
    {
     "name": "stdout",
     "output_type": "stream",
     "text": [
      "<__main__.Node object at 0x00000262185EA990>\n"
     ]
    }
   ],
   "source": [
    "print(a.next) #pointing the reference"
   ]
  },
  {
   "cell_type": "markdown",
   "id": "e571827d",
   "metadata": {},
   "source": [
    "### 1. Inserting in a singly linked list\n",
    "\n",
    "Steps:\n",
    "\n",
    "1. Create a node with the given value\n",
    "2. Point the address pointer of new node -> head\n",
    "3. Reassign the head to new node"
   ]
  },
  {
   "cell_type": "code",
   "execution_count": 55,
   "id": "a3524abb",
   "metadata": {},
   "outputs": [],
   "source": [
    "class LinkedList:\n",
    "    \n",
    "    def __init__(self):  \n",
    "              \n",
    "        self.head = None #not pointing anywhere\n",
    "    \n",
    "    def insert(self, value):   \n",
    "        \n",
    "        #1. Create a new node with the given value\n",
    "        new_node = Node(value)\n",
    "        \n",
    "        #2. Point the address pointer of new node -> head\n",
    "        new_node.next = self.head\n",
    "          \n",
    "        #3.Reassign the head to new node      \n",
    "        self.head = new_node "
   ]
  },
  {
   "cell_type": "code",
   "execution_count": 56,
   "id": "847c4a86",
   "metadata": {},
   "outputs": [],
   "source": [
    "LL = LinkedList()"
   ]
  },
  {
   "cell_type": "code",
   "execution_count": 57,
   "id": "c3c2a3ba",
   "metadata": {},
   "outputs": [],
   "source": [
    "LL.insert(3)"
   ]
  },
  {
   "cell_type": "code",
   "execution_count": 58,
   "id": "bafb678a",
   "metadata": {},
   "outputs": [],
   "source": [
    "LL.insert(4)"
   ]
  },
  {
   "cell_type": "code",
   "execution_count": 59,
   "id": "17e3f966",
   "metadata": {},
   "outputs": [],
   "source": [
    "LL.insert(10)"
   ]
  },
  {
   "cell_type": "markdown",
   "id": "027457ca",
   "metadata": {},
   "source": [
    "### 2. Traversal in a singly linked list"
   ]
  },
  {
   "cell_type": "code",
   "execution_count": 60,
   "id": "fae48e9d",
   "metadata": {},
   "outputs": [],
   "source": [
    "class LinkedList2:\n",
    "    \n",
    "    def __init__(self):  \n",
    "              \n",
    "        self.head = None #not pointing anywhere\n",
    "    \n",
    "    def insert(self, value):   \n",
    "        \n",
    "        #1. Create a new node with the given value\n",
    "        new_node = Node(value)\n",
    "        \n",
    "        #2. Point the address pointer of new node -> head\n",
    "        new_node.next = self.head\n",
    "          \n",
    "        #3.Reassign the head to new node      \n",
    "        self.head = new_node \n",
    "        \n",
    "    def traverse(self):\n",
    "        temp = self.head\n",
    "        \n",
    "        while temp is not None:\n",
    "            print(temp.data, end=\" \")\n",
    "            temp= temp.next"
   ]
  },
  {
   "cell_type": "code",
   "execution_count": 61,
   "id": "d7be0c6a",
   "metadata": {},
   "outputs": [],
   "source": [
    "LL2 = LinkedList2() "
   ]
  },
  {
   "cell_type": "code",
   "execution_count": 62,
   "id": "8a55fbb4",
   "metadata": {},
   "outputs": [],
   "source": [
    "LL2.insert(11)\n",
    "LL2.insert(22)\n",
    "LL2.insert(33)\n",
    "LL2.insert(44)\n"
   ]
  },
  {
   "cell_type": "code",
   "execution_count": 63,
   "id": "a3d348af",
   "metadata": {},
   "outputs": [
    {
     "name": "stdout",
     "output_type": "stream",
     "text": [
      "44 33 22 11 "
     ]
    }
   ],
   "source": [
    "LL2.traverse()"
   ]
  },
  {
   "cell_type": "code",
   "execution_count": 64,
   "id": "6d11b317",
   "metadata": {},
   "outputs": [
    {
     "name": "stdout",
     "output_type": "stream",
     "text": [
      "55 44 33 22 11 "
     ]
    }
   ],
   "source": [
    "LL2.insert(55)\n",
    "LL2.traverse()\n"
   ]
  },
  {
   "cell_type": "markdown",
   "id": "92804cdb",
   "metadata": {},
   "source": [
    "### 3. Insert a new node after a particular given node"
   ]
  },
  {
   "cell_type": "code",
   "execution_count": 65,
   "id": "6017eade",
   "metadata": {},
   "outputs": [],
   "source": [
    "class LinkedList3:\n",
    "    \n",
    "    def __init__(self):  \n",
    "              \n",
    "        self.head = None #not pointing anywhere\n",
    "    \n",
    "    def insert(self, value):   \n",
    "        \n",
    "        #1. Create a new node with the given value\n",
    "        new_node = Node(value)\n",
    "        \n",
    "        #2. Point the address pointer of new node -> head\n",
    "        new_node.next = self.head\n",
    "          \n",
    "        #3.Reassign the head to new node      \n",
    "        self.head = new_node \n",
    "        \n",
    "    def insert_after(self, prev_data, new_data):\n",
    "        \n",
    "        prev = self.head\n",
    "        while prev is not None:\n",
    "            if prev.data == prev_data:\n",
    "                break\n",
    "            prev = prev.next    \n",
    "    \n",
    "        if prev is None:\n",
    "            print(\"Node not found\")\n",
    "            \n",
    "        else:\n",
    "            new_node = Node(new_data)\n",
    "            \n",
    "            new_node.next = prev.next\n",
    "            \n",
    "            prev.next = new_node\n",
    "        \n",
    "    def traverse(self):\n",
    "        temp = self.head\n",
    "        \n",
    "        while temp is not None:\n",
    "            print(temp.data, end=\" \")\n",
    "            temp= temp.next"
   ]
  },
  {
   "cell_type": "code",
   "execution_count": 66,
   "id": "1e401785",
   "metadata": {},
   "outputs": [],
   "source": [
    "LL3 = LinkedList3()"
   ]
  },
  {
   "cell_type": "code",
   "execution_count": 67,
   "id": "d85fce73",
   "metadata": {},
   "outputs": [],
   "source": [
    "LL3.insert(35)\n",
    "LL3.insert(1)\n",
    "LL3.insert(100)\n",
    "LL3.insert(77)\n",
    "LL3.insert(66)"
   ]
  },
  {
   "cell_type": "code",
   "execution_count": 68,
   "id": "7e2dbaf3",
   "metadata": {},
   "outputs": [
    {
     "name": "stdout",
     "output_type": "stream",
     "text": [
      "66 77 100 1 35 "
     ]
    }
   ],
   "source": [
    "LL3.traverse()"
   ]
  },
  {
   "cell_type": "code",
   "execution_count": 69,
   "id": "2953f1e6",
   "metadata": {},
   "outputs": [],
   "source": [
    "LL3.insert_after(100, 0)"
   ]
  },
  {
   "cell_type": "code",
   "execution_count": 71,
   "id": "07aeaf39",
   "metadata": {},
   "outputs": [
    {
     "name": "stdout",
     "output_type": "stream",
     "text": [
      "66 77 100 0 1 35 "
     ]
    }
   ],
   "source": [
    "LL3.traverse()"
   ]
  },
  {
   "cell_type": "code",
   "execution_count": 72,
   "id": "ce97ad71",
   "metadata": {},
   "outputs": [
    {
     "name": "stdout",
     "output_type": "stream",
     "text": [
      "Node not found\n"
     ]
    }
   ],
   "source": [
    "LL3.insert_after(111, 10)"
   ]
  },
  {
   "cell_type": "markdown",
   "id": "bb93dba4",
   "metadata": {},
   "source": [
    "### 4. Insert new node through tail"
   ]
  },
  {
   "cell_type": "code",
   "execution_count": 73,
   "id": "c202abad",
   "metadata": {},
   "outputs": [],
   "source": [
    "class LinkedList4:\n",
    "    \n",
    "    def __init__(self):  \n",
    "              \n",
    "        self.head = None #not pointing anywhere\n",
    "    \n",
    "    def insert(self, value):   \n",
    "        \n",
    "        #1. Create a new node with the given value\n",
    "        new_node = Node(value)\n",
    "        \n",
    "        #2. Point the address pointer of new node -> head\n",
    "        new_node.next = self.head\n",
    "          \n",
    "        #3.Reassign the head to new node      \n",
    "        self.head = new_node \n",
    "        \n",
    "    def insert_after(self, prev_data, new_data):\n",
    "        \n",
    "        prev = self.head\n",
    "        while prev is not None:\n",
    "            if prev.data == prev_data:\n",
    "                break\n",
    "            prev = prev.next    \n",
    "    \n",
    "        if prev is None:\n",
    "            print(\"Node not found\")\n",
    "            \n",
    "        else:\n",
    "            new_node = Node(new_data)\n",
    "            \n",
    "            new_node.next = prev.next\n",
    "            \n",
    "            prev.next = new_node\n",
    "            \n",
    "    def insert_end(self, value):\n",
    "        new_node = Node(value)\n",
    "        \n",
    "        if self.head is None:\n",
    "            self.head = new_node\n",
    "            \n",
    "        else:\n",
    "            tail = self.head\n",
    "            \n",
    "            while tail.next is not None:\n",
    "                \n",
    "                tail = tail.next\n",
    "            \n",
    "            tail.next = new_node\n",
    "                \n",
    "        \n",
    "    def traverse(self):\n",
    "        temp = self.head\n",
    "        \n",
    "        while temp is not None:\n",
    "            print(temp.data, end=\" \")\n",
    "            temp= temp.next"
   ]
  },
  {
   "cell_type": "code",
   "execution_count": 75,
   "id": "f60b578a",
   "metadata": {},
   "outputs": [],
   "source": [
    "LL4 = LinkedList4()\n",
    "\n",
    "LL4.insert(350)\n",
    "LL4.insert(10)\n",
    "LL4.insert(1001)\n",
    "LL4.insert(770)\n",
    "LL4.insert(663)"
   ]
  },
  {
   "cell_type": "code",
   "execution_count": 76,
   "id": "6b5d5573",
   "metadata": {},
   "outputs": [],
   "source": [
    "LL4.insert_end(500)"
   ]
  },
  {
   "cell_type": "code",
   "execution_count": 77,
   "id": "2278e0fe",
   "metadata": {},
   "outputs": [
    {
     "name": "stdout",
     "output_type": "stream",
     "text": [
      "663 770 1001 10 350 500 "
     ]
    }
   ],
   "source": [
    "LL4.traverse()"
   ]
  },
  {
   "cell_type": "code",
   "execution_count": 80,
   "id": "dc6d2436",
   "metadata": {},
   "outputs": [],
   "source": [
    "LL5 = LinkedList4()"
   ]
  },
  {
   "cell_type": "code",
   "execution_count": 81,
   "id": "508923cd",
   "metadata": {},
   "outputs": [],
   "source": [
    "LL5.insert_end(900)"
   ]
  },
  {
   "cell_type": "code",
   "execution_count": 82,
   "id": "0bc474a0",
   "metadata": {},
   "outputs": [
    {
     "name": "stdout",
     "output_type": "stream",
     "text": [
      "900 "
     ]
    }
   ],
   "source": [
    "LL5.traverse()"
   ]
  },
  {
   "cell_type": "markdown",
   "id": "632827da",
   "metadata": {},
   "source": [
    "### 5. Deletion "
   ]
  },
  {
   "cell_type": "code",
   "execution_count": 89,
   "id": "1d9d4d85",
   "metadata": {},
   "outputs": [],
   "source": [
    "class LinkedList6:\n",
    "    \n",
    "    def __init__(self):  \n",
    "              \n",
    "        self.head = None #not pointing anywhere\n",
    "    \n",
    "    def insert(self, value):   \n",
    "        \n",
    "        #1. Create a new node with the given value\n",
    "        new_node = Node(value)\n",
    "        \n",
    "        #2. Point the address pointer of new node -> head\n",
    "        new_node.next = self.head\n",
    "          \n",
    "        #3.Reassign the head to new node      \n",
    "        self.head = new_node \n",
    "        \n",
    "    def insert_after(self, prev_data, new_data):\n",
    "        \n",
    "        prev = self.head\n",
    "        while prev is not None:\n",
    "            if prev.data == prev_data:\n",
    "                break\n",
    "            prev = prev.next    \n",
    "    \n",
    "        if prev is None:\n",
    "            print(\"Node not found\")\n",
    "            \n",
    "        else:\n",
    "            new_node = Node(new_data)\n",
    "            \n",
    "            new_node.next = prev.next\n",
    "            \n",
    "            prev.next = new_node\n",
    "            \n",
    "    def insert_end(self, value):\n",
    "        new_node = Node(value)\n",
    "        \n",
    "        if self.head is None:\n",
    "            self.head = new_node\n",
    "            \n",
    "        else:\n",
    "            tail = self.head\n",
    "            \n",
    "            while tail.next is not None:\n",
    "                \n",
    "                tail = tail.next\n",
    "            \n",
    "            tail.next = new_node\n",
    "                \n",
    "        \n",
    "    def traverse(self):\n",
    "        temp = self.head\n",
    "        \n",
    "        while temp is not None:\n",
    "            print(temp.data, end=\" \")\n",
    "            temp= temp.next\n",
    "\n",
    "    def delete_head(self):\n",
    "        if self.head is None:\n",
    "            print(\" list is empty, can't delete\")\n",
    "        \n",
    "        else:\n",
    "            self.head=self.head.next"
   ]
  },
  {
   "cell_type": "code",
   "execution_count": 90,
   "id": "9d0b5de3",
   "metadata": {},
   "outputs": [],
   "source": [
    "LL6 = LinkedList6()\n",
    "\n",
    "LL6.insert(350)\n",
    "LL6.insert(10)\n",
    "LL6.insert(1001)\n",
    "LL6.insert(770)\n"
   ]
  },
  {
   "cell_type": "code",
   "execution_count": 91,
   "id": "b42b29f5",
   "metadata": {},
   "outputs": [],
   "source": [
    "LL6.delete_head()"
   ]
  },
  {
   "cell_type": "code",
   "execution_count": 92,
   "id": "d3fcaf71",
   "metadata": {},
   "outputs": [
    {
     "name": "stdout",
     "output_type": "stream",
     "text": [
      "1001 10 350 "
     ]
    }
   ],
   "source": [
    "LL6.traverse()"
   ]
  },
  {
   "cell_type": "code",
   "execution_count": 93,
   "id": "ba5d08b4",
   "metadata": {},
   "outputs": [
    {
     "name": "stdout",
     "output_type": "stream",
     "text": [
      "10 350 "
     ]
    }
   ],
   "source": [
    "LL6.delete_head()\n",
    "LL6.traverse()"
   ]
  },
  {
   "cell_type": "code",
   "execution_count": 94,
   "id": "bb95dc85",
   "metadata": {},
   "outputs": [
    {
     "name": "stdout",
     "output_type": "stream",
     "text": [
      "350 "
     ]
    }
   ],
   "source": [
    "LL6.delete_head()\n",
    "LL6.traverse()"
   ]
  },
  {
   "cell_type": "code",
   "execution_count": 95,
   "id": "47c81bf6",
   "metadata": {},
   "outputs": [],
   "source": [
    "LL6.delete_head()\n",
    "LL6.traverse()"
   ]
  },
  {
   "cell_type": "code",
   "execution_count": 96,
   "id": "e24f3def",
   "metadata": {},
   "outputs": [
    {
     "name": "stdout",
     "output_type": "stream",
     "text": [
      " list is empty, can't delete\n"
     ]
    }
   ],
   "source": [
    "LL6.delete_head()\n",
    "LL6.traverse()"
   ]
  },
  {
   "cell_type": "markdown",
   "id": "13196283",
   "metadata": {},
   "source": [
    "### 6.1 Deleting from tail"
   ]
  },
  {
   "cell_type": "code",
   "execution_count": 157,
   "id": "ba285c9d",
   "metadata": {},
   "outputs": [
    {
     "name": "stdout",
     "output_type": "stream",
     "text": [
      "List after inserting 10, 20, 30 at the end:\n",
      "10 20 30 \n",
      "List after deleting the tail:\n",
      "10 20 \n",
      "List after deleting the tail again:\n",
      "10 \n",
      "List after deleting the last remaining tail:\n",
      "\n",
      "List is empty, can't delete the tail.\n"
     ]
    }
   ],
   "source": [
    "class Node:\n",
    "    def __init__(self, data):\n",
    "        self.data = data\n",
    "        self.next = None\n",
    "\n",
    "\n",
    "class LinkedList7:\n",
    "    def __init__(self):\n",
    "        self.head = None  # Linked list is initially empty\n",
    "\n",
    "    def insert(self, value):\n",
    "        # Insert at the beginning of the list\n",
    "        new_node = Node(value)\n",
    "        new_node.next = self.head\n",
    "        self.head = new_node\n",
    "\n",
    "    def insert_after(self, prev_data, new_data):\n",
    "        # Insert a node after a given node\n",
    "        prev = self.head\n",
    "        while prev is not None:\n",
    "            if prev.data == prev_data:\n",
    "                break\n",
    "            prev = prev.next\n",
    "\n",
    "        if prev is None:\n",
    "            print(\"Node not found\")\n",
    "        else:\n",
    "            new_node = Node(new_data)\n",
    "            new_node.next = prev.next\n",
    "            prev.next = new_node\n",
    "\n",
    "    def insert_end(self, value):\n",
    "        # Insert a node at the end of the list\n",
    "        new_node = Node(value)\n",
    "        if self.head is None:\n",
    "            self.head = new_node\n",
    "        else:\n",
    "            tail = self.head\n",
    "            while tail.next is not None:\n",
    "                tail = tail.next\n",
    "            tail.next = new_node\n",
    "\n",
    "    def traverse(self):\n",
    "        # Print the list contents\n",
    "        temp = self.head\n",
    "        while temp is not None:\n",
    "            print(temp.data, end=\" \")\n",
    "            temp = temp.next\n",
    "        print()  # Newline for cleaner output\n",
    "\n",
    "    def delete_head(self):\n",
    "        # Delete the head of the list\n",
    "        if self.head is None:\n",
    "            print(\"List is empty, can't delete\")\n",
    "        else:\n",
    "            self.head = self.head.next\n",
    "\n",
    "    def delete_tail(self):\n",
    "        # Case 1: If the list is empty\n",
    "        if self.head is None:\n",
    "            print(\"List is empty, can't delete the tail.\")\n",
    "            return\n",
    "\n",
    "        # Case 2: If the list has only one node\n",
    "        if self.head.next is None:\n",
    "            self.head = None\n",
    "            return\n",
    "\n",
    "        # Case 3: Traverse to the second last node\n",
    "        temp = self.head\n",
    "        while temp.next.next is not None:\n",
    "            temp = temp.next\n",
    "\n",
    "        # Set the next of the second last node to None\n",
    "        temp.next = None\n",
    "\n",
    "\n",
    "# Example usage\n",
    "if __name__ == \"__main__\":\n",
    "    # Create linked list\n",
    "    ll = LinkedList7()\n",
    "\n",
    "    # Insert elements\n",
    "    ll.insert_end(10)\n",
    "    ll.insert_end(20)\n",
    "    ll.insert_end(30)\n",
    "    print(\"List after inserting 10, 20, 30 at the end:\")\n",
    "    ll.traverse()  # Output: 10 20 30\n",
    "\n",
    "    # Delete tail node\n",
    "    ll.delete_tail()\n",
    "    print(\"List after deleting the tail:\")\n",
    "    ll.traverse()  # Output: 10 20\n",
    "\n",
    "    # Delete tail node again\n",
    "    ll.delete_tail()\n",
    "    print(\"List after deleting the tail again:\")\n",
    "    ll.traverse()  # Output: 10\n",
    "\n",
    "    # Delete tail node for the last remaining node\n",
    "    ll.delete_tail()\n",
    "    print(\"List after deleting the last remaining tail:\")\n",
    "    ll.traverse()  # Output: (empty list)\n",
    "\n",
    "    # Attempt to delete from an empty list\n",
    "    ll.delete_tail()  # Output: List is empty, can't delete the tail.\n"
   ]
  },
  {
   "cell_type": "markdown",
   "id": "d88965ac",
   "metadata": {},
   "source": [
    "### Deleting a particular node"
   ]
  },
  {
   "cell_type": "code",
   "execution_count": 158,
   "id": "27bc0279",
   "metadata": {},
   "outputs": [],
   "source": [
    "class Node:\n",
    "    def __init__(self, data):\n",
    "        self.data = data\n",
    "        self.next = None\n",
    "\n",
    "\n",
    "class LinkedList7:\n",
    "    def __init__(self):\n",
    "        self.head = None  # Linked list is initially empty\n",
    "\n",
    "    def insert(self, value):\n",
    "        # Insert at the beginning of the list\n",
    "        new_node = Node(value)\n",
    "        new_node.next = self.head\n",
    "        self.head = new_node\n",
    "\n",
    "    def insert_end(self, value):\n",
    "        # Insert a node at the end of the list\n",
    "        new_node = Node(value)\n",
    "        if self.head is None:\n",
    "            self.head = new_node\n",
    "        else:\n",
    "            tail = self.head\n",
    "            while tail.next is not None:\n",
    "                tail = tail.next\n",
    "            tail.next = new_node\n",
    "\n",
    "    def traverse(self):\n",
    "        # Print the list contents\n",
    "        temp = self.head\n",
    "        while temp is not None:\n",
    "            print(temp.data, end=\" \")\n",
    "            temp = temp.next\n",
    "        print()  # Newline for cleaner output\n",
    "\n",
    "    def delete_node(self, value):\n",
    "        \"\"\"\n",
    "        Delete a particular node (excluding special cases like head or tail).\n",
    "        \"\"\"\n",
    "        # Case 1: Empty list\n",
    "        if self.head is None:\n",
    "            print(\"List is empty, can't delete the node.\")\n",
    "            return\n",
    "\n",
    "        # Case 2: Traverse to find the node to delete\n",
    "        prev = None\n",
    "        current = self.head\n",
    "        while current is not None:\n",
    "            if current.data == value:\n",
    "                break\n",
    "            prev = current\n",
    "            current = current.next\n",
    "\n",
    "        # Case 3: If node is not found\n",
    "        if current is None:\n",
    "            print(f\"Node with value {value} not found.\")\n",
    "            return\n",
    "\n",
    "        # Case 4: Delete the node\n",
    "        prev.next = current.next\n",
    "        current = None\n",
    "        print(f\"Node with value {value} deleted.\")\n"
   ]
  },
  {
   "cell_type": "code",
   "execution_count": 159,
   "id": "c5540955",
   "metadata": {},
   "outputs": [
    {
     "name": "stdout",
     "output_type": "stream",
     "text": [
      "List after inserting 10, 20, 30, 40:\n",
      "10 20 30 40 \n",
      "Node with value 30 deleted.\n",
      "List after deleting 30:\n",
      "10 20 40 \n",
      "Node with value 50 not found.\n",
      "Node with value 20 deleted.\n",
      "List after deleting 20:\n",
      "10 40 \n"
     ]
    }
   ],
   "source": [
    "if __name__ == \"__main__\":\n",
    "    # Create linked list\n",
    "    ll = LinkedList7()\n",
    "\n",
    "    # Insert elements\n",
    "    ll.insert_end(10)\n",
    "    ll.insert_end(20)\n",
    "    ll.insert_end(30)\n",
    "    ll.insert_end(40)\n",
    "    print(\"List after inserting 10, 20, 30, 40:\")\n",
    "    ll.traverse()  # Output: 10 20 30 40\n",
    "\n",
    "    # Delete a node with value 30\n",
    "    ll.delete_node(30)\n",
    "    print(\"List after deleting 30:\")\n",
    "    ll.traverse()  # Output: 10 20 40\n",
    "\n",
    "    # Try to delete a node with value 50 (not in the list)\n",
    "    ll.delete_node(50)  # Output: Node with value 50 not found.\n",
    "\n",
    "    # Delete a node with value 20\n",
    "    ll.delete_node(20)\n",
    "    print(\"List after deleting 20:\")\n",
    "    ll.traverse()  # Output: 10 40\n"
   ]
  },
  {
   "cell_type": "code",
   "execution_count": null,
   "id": "252366cc",
   "metadata": {},
   "outputs": [],
   "source": []
  }
 ],
 "metadata": {
  "kernelspec": {
   "display_name": "Python 3 (ipykernel)",
   "language": "python",
   "name": "python3"
  },
  "language_info": {
   "codemirror_mode": {
    "name": "ipython",
    "version": 3
   },
   "file_extension": ".py",
   "mimetype": "text/x-python",
   "name": "python",
   "nbconvert_exporter": "python",
   "pygments_lexer": "ipython3",
   "version": "3.11.7"
  }
 },
 "nbformat": 4,
 "nbformat_minor": 5
}
